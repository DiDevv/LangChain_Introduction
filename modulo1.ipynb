{
 "cells": [
  {
   "cell_type": "markdown",
   "metadata": {},
   "source": [
    "# LangChain: Models, Prompts e Output Parsers"
   ]
  },
  {
   "cell_type": "code",
   "execution_count": 3,
   "metadata": {},
   "outputs": [],
   "source": [
    "# Importando Bibliotecas\n",
    "from dotenv import load_dotenv\n",
    "import openai\n",
    "import os"
   ]
  },
  {
   "cell_type": "code",
   "execution_count": 4,
   "metadata": {},
   "outputs": [],
   "source": [
    "#Carregando API KEY da OpenAI diretamente da minha variável de ambiente .env\n",
    "\n",
    "load_dotenv()\n",
    "\n",
    "OPENAI_API_KEY = os.getenv(\"OPENAI_API_KEY\")"
   ]
  },
  {
   "cell_type": "code",
   "execution_count": 10,
   "metadata": {},
   "outputs": [],
   "source": [
    "llm_model = \"gpt-4o-mini\""
   ]
  },
  {
   "cell_type": "markdown",
   "metadata": {},
   "source": [
    "### Trabalhando SEM o langchain"
   ]
  },
  {
   "cell_type": "code",
   "execution_count": 11,
   "metadata": {},
   "outputs": [],
   "source": [
    "# Função responsável por receber o prompt e processar resposta baseada nele.\n",
    "def get_completion(prompt, model=llm_model):\n",
    "    messages = [{\"role\":\"user\", \"content\":prompt}]\n",
    "    response = openai.chat.completions.create(\n",
    "        model=model,\n",
    "        messages=messages,\n",
    "        temperature=0\n",
    "    )\n",
    "    return response.choices[0].message.content"
   ]
  },
  {
   "cell_type": "markdown",
   "metadata": {},
   "source": [
    "Nesse exemplo, estou trabalhando de forma \"crua\", sem o framework."
   ]
  },
  {
   "cell_type": "code",
   "execution_count": 38,
   "metadata": {},
   "outputs": [],
   "source": [
    "sobre_mim = \"\"\"Olá! Meu nome é Diogo Dias, sou estudante de \\\n",
    "Engenharia pela Universidade Federal da Paraíba (UFPB) e facinado por \\\n",
    "tudo que envolve dados e inteligência artificial. \\\n",
    "Estou trabalhando para que em breve eu consiga reopcionar meu curso \\\n",
    "para Ciência de Dados e IA na própria UFPB, porém, enquanto isso não acontece, \\\n",
    "faço uma graduação à distância em Ciência de Dados pela Cruzeiro do Sul Virtual. \\\n",
    "Seria legal te conhecer também! Entra em contato comigo pelo meu Discord para \\\n",
    "trocarmos uma idéia ;) meu nick é azafama!\"\"\" "
   ]
  },
  {
   "cell_type": "code",
   "execution_count": 39,
   "metadata": {},
   "outputs": [],
   "source": [
    "traducao = \"\"\"Inglês do UK\"\"\""
   ]
  },
  {
   "cell_type": "code",
   "execution_count": 42,
   "metadata": {},
   "outputs": [
    {
     "name": "stdout",
     "output_type": "stream",
     "text": [
      "Traduza o texto de apresentação pessoal destacado pelas três aspas invertidas para o seguinte idioma Inglês do UK.\n",
      "texto: ```Olá! Meu nome é Diogo Dias, sou estudante de Engenharia pela Universidade Federal da Paraíba (UFPB) e facinado por tudo que envolve dados e inteligência artificial. Estou trabalhando para que em breve eu consiga reopcionar meu curso para Ciência de Dados e IA na própria UFPB, porém, enquanto isso não acontece, faço uma graduação à distância em Ciência de Dados pela Cruzeiro do Sul Virtual. Seria legal te conhecer também! Entra em contato comigo pelo meu Discord para trocarmos uma idéia ;) meu nick é azafama!```\n"
     ]
    }
   ],
   "source": [
    "prompt = f\"\"\"Traduza o texto de apresentação pessoal \\\n",
    "destacado pelas três aspas invertidas \\\n",
    "para o seguinte idioma {traducao}.\n",
    "texto: ```{sobre_mim}```\"\"\"\n",
    "print(prompt)"
   ]
  },
  {
   "cell_type": "code",
   "execution_count": 43,
   "metadata": {},
   "outputs": [
    {
     "name": "stdout",
     "output_type": "stream",
     "text": [
      "Sure! Here’s the translation of your personal introduction into UK English:\n",
      "\n",
      "```Hello! My name is Diogo Dias, I am a student of Engineering at the Federal University of Paraíba (UFPB) and I am fascinated by everything that involves data and artificial intelligence. I am working towards the goal of transferring my course to Data Science and AI at UFPB soon, however, while that is not happening, I am pursuing a distance learning degree in Data Science at Cruzeiro do Sul Virtual. It would be great to meet you too! Get in touch with me on my Discord so we can have a chat ;) my username is azafama!```\n"
     ]
    }
   ],
   "source": [
    "resposta = get_completion(prompt)\n",
    "print(resposta)"
   ]
  },
  {
   "cell_type": "markdown",
   "metadata": {},
   "source": [
    "### Instalando LangChain"
   ]
  },
  {
   "cell_type": "code",
   "execution_count": 21,
   "metadata": {},
   "outputs": [],
   "source": [
    "# Pacote do LangChain para modelos da OpenAI (seguindo a documentação)\n",
    "!pip install -qU langchain-openai"
   ]
  },
  {
   "cell_type": "code",
   "execution_count": 22,
   "metadata": {},
   "outputs": [],
   "source": [
    "# Importando biblioteca\n",
    "from langchain_openai import ChatOpenAI"
   ]
  },
  {
   "cell_type": "code",
   "execution_count": 47,
   "metadata": {},
   "outputs": [],
   "source": [
    "# Escolhendo o modelo\n",
    "model = ChatOpenAI(model=llm_model, temperature=0.0)"
   ]
  },
  {
   "cell_type": "code",
   "execution_count": 57,
   "metadata": {},
   "outputs": [],
   "source": [
    "# Repare que aqui não estou usando o (f) para formatar a string, se eu adicionar\n",
    "# as variáveis (traducao, sobre_mim) não serão reconhecidas como variáveis no template_string\n",
    "template_string = \"\"\"Traduza o texto de apresentação pessoal \\\n",
    "destacado pelas três aspas invertidas \\\n",
    "para o seguinte idioma {traducao}.\n",
    "texto: ```{sobre_mim}```\"\"\""
   ]
  },
  {
   "cell_type": "code",
   "execution_count": 58,
   "metadata": {},
   "outputs": [],
   "source": [
    "from langchain.prompts import ChatPromptTemplate\n",
    "\n",
    "# Criando meu Prompt Template (Pesquisar definição de Prompt Template)\n",
    "prompt_template = ChatPromptTemplate.from_template(template_string)"
   ]
  },
  {
   "cell_type": "code",
   "execution_count": 59,
   "metadata": {},
   "outputs": [
    {
     "data": {
      "text/plain": [
       "PromptTemplate(input_variables=['sobre_mim', 'traducao'], template='Traduza o texto de apresentação pessoal destacado pelas três aspas invertidas para o seguinte idioma {traducao}.\\ntexto: ```{sobre_mim}```')"
      ]
     },
     "execution_count": 59,
     "metadata": {},
     "output_type": "execute_result"
    }
   ],
   "source": [
    "# Extraindo o conteúdo do meu prompt Template.\n",
    "prompt_template.messages[0].prompt"
   ]
  },
  {
   "cell_type": "code",
   "execution_count": 60,
   "metadata": {},
   "outputs": [
    {
     "data": {
      "text/plain": [
       "['sobre_mim', 'traducao']"
      ]
     },
     "execution_count": 60,
     "metadata": {},
     "output_type": "execute_result"
    }
   ],
   "source": [
    "# Visualizando apenas minhas variáveis do prompt_template\n",
    "prompt_template.messages[0].input_variables"
   ]
  },
  {
   "cell_type": "code",
   "execution_count": 61,
   "metadata": {},
   "outputs": [],
   "source": [
    "idioma = \"\"\"Inglês do UK\"\"\""
   ]
  },
  {
   "cell_type": "code",
   "execution_count": 62,
   "metadata": {},
   "outputs": [],
   "source": [
    "apresentacao = \"\"\"Olá! Meu nome é Diogo Dias, sou estudante de \\\n",
    "Engenharia pela Universidade Federal da Paraíba (UFPB) e facinado por \\\n",
    "tudo que envolve dados e inteligência artificial. \\\n",
    "Estou trabalhando para que em breve eu consiga reopcionar meu curso \\\n",
    "para Ciência de Dados e IA na própria UFPB, porém, enquanto isso não acontece, \\\n",
    "faço uma graduação à distância em Ciência de Dados pela Cruzeiro do Sul Virtual. \\\n",
    "Seria legal te conhecer também! Entra em contato comigo pelo meu Discord para \\\n",
    "trocarmos uma idéia ;) meu nick é azafama!\"\"\" "
   ]
  },
  {
   "cell_type": "code",
   "execution_count": 63,
   "metadata": {},
   "outputs": [],
   "source": [
    "apresentacao_pessoal = prompt_template.format_messages(\n",
    "    sobre_mim = apresentacao,\n",
    "    traducao = idioma\n",
    ")"
   ]
  },
  {
   "cell_type": "code",
   "execution_count": 64,
   "metadata": {},
   "outputs": [
    {
     "name": "stdout",
     "output_type": "stream",
     "text": [
      "<class 'list'>\n",
      "<class 'langchain_core.messages.human.HumanMessage'>\n"
     ]
    }
   ],
   "source": [
    "print(type(apresentacao_pessoal))\n",
    "print(type(apresentacao_pessoal[0]))"
   ]
  },
  {
   "cell_type": "code",
   "execution_count": 65,
   "metadata": {},
   "outputs": [
    {
     "name": "stdout",
     "output_type": "stream",
     "text": [
      "content='Traduza o texto de apresentação pessoal destacado pelas três aspas invertidas para o seguinte idioma Inglês do UK.\\ntexto: ```Olá! Meu nome é Diogo Dias, sou estudante de Engenharia pela Universidade Federal da Paraíba (UFPB) e facinado por tudo que envolve dados e inteligência artificial. Estou trabalhando para que em breve eu consiga reopcionar meu curso para Ciência de Dados e IA na própria UFPB, porém, enquanto isso não acontece, faço uma graduação à distância em Ciência de Dados pela Cruzeiro do Sul Virtual. Seria legal te conhecer também! Entra em contato comigo pelo meu Discord para trocarmos uma idéia ;) meu nick é azafama!```'\n"
     ]
    }
   ],
   "source": [
    "print(apresentacao_pessoal[0])"
   ]
  },
  {
   "cell_type": "code",
   "execution_count": 66,
   "metadata": {},
   "outputs": [
    {
     "name": "stderr",
     "output_type": "stream",
     "text": [
      "c:\\Users\\diasd\\anaconda3\\envs\\ChatBot\\Lib\\site-packages\\langchain_core\\_api\\deprecation.py:151: LangChainDeprecationWarning: The method `BaseChatModel.__call__` was deprecated in langchain-core 0.1.7 and will be removed in 1.0. Use invoke instead.\n",
      "  warn_deprecated(\n"
     ]
    }
   ],
   "source": [
    "resposta_langchain = model(apresentacao_pessoal)"
   ]
  },
  {
   "cell_type": "code",
   "execution_count": 67,
   "metadata": {},
   "outputs": [
    {
     "name": "stdout",
     "output_type": "stream",
     "text": [
      "content='Sure! Here’s the translation of your personal presentation text into UK English:\\n\\n```Hello! My name is Diogo Dias, I am a student of Engineering at the Federal University of Paraíba (UFPB) and I am fascinated by everything that involves data and artificial intelligence. I am working towards the goal of transferring my course to Data Science and AI at UFPB soon, however, while that is not happening, I am pursuing a distance learning degree in Data Science at Cruzeiro do Sul Virtual. It would be great to meet you too! Get in touch with me on my Discord so we can have a chat ;) my username is azafama!```' additional_kwargs={'refusal': None} response_metadata={'token_usage': {'completion_tokens': 134, 'prompt_tokens': 149, 'total_tokens': 283}, 'model_name': 'gpt-4o-mini-2024-07-18', 'system_fingerprint': 'fp_48196bc67a', 'finish_reason': 'stop', 'logprobs': None} id='run-9fc2c180-50f4-418b-b4ce-b4adbe7dac7b-0' usage_metadata={'input_tokens': 149, 'output_tokens': 134, 'total_tokens': 283}\n"
     ]
    }
   ],
   "source": [
    "print(resposta_langchain)"
   ]
  },
  {
   "cell_type": "code",
   "execution_count": 68,
   "metadata": {},
   "outputs": [
    {
     "name": "stdout",
     "output_type": "stream",
     "text": [
      "Sure! Here’s the translation of your personal presentation text into UK English:\n",
      "\n",
      "```Hello! My name is Diogo Dias, I am a student of Engineering at the Federal University of Paraíba (UFPB) and I am fascinated by everything that involves data and artificial intelligence. I am working towards the goal of transferring my course to Data Science and AI at UFPB soon, however, while that is not happening, I am pursuing a distance learning degree in Data Science at Cruzeiro do Sul Virtual. It would be great to meet you too! Get in touch with me on my Discord so we can have a chat ;) my username is azafama!```\n"
     ]
    }
   ],
   "source": [
    "print(resposta_langchain.content)"
   ]
  },
  {
   "cell_type": "code",
   "execution_count": null,
   "metadata": {},
   "outputs": [],
   "source": []
  }
 ],
 "metadata": {
  "kernelspec": {
   "display_name": "ChatBot",
   "language": "python",
   "name": "python3"
  },
  "language_info": {
   "codemirror_mode": {
    "name": "ipython",
    "version": 3
   },
   "file_extension": ".py",
   "mimetype": "text/x-python",
   "name": "python",
   "nbconvert_exporter": "python",
   "pygments_lexer": "ipython3",
   "version": "3.12.4"
  }
 },
 "nbformat": 4,
 "nbformat_minor": 2
}
