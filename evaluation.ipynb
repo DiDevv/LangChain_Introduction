{
 "cells": [
  {
   "cell_type": "markdown",
   "metadata": {},
   "source": [
    "# LangChain: Evaluation"
   ]
  },
  {
   "cell_type": "markdown",
   "metadata": {},
   "source": [
    "A etapa de avaliação do modelo é crucial para manter um sistema funcional. É sem dúvidas a parte mais importante da manutenção do modelo."
   ]
  },
  {
   "cell_type": "markdown",
   "metadata": {},
   "source": [
    "Futuramente estudar outras técnicas de avaliação de modelos"
   ]
  },
  {
   "cell_type": "markdown",
   "metadata": {},
   "source": [
    "---"
   ]
  },
  {
   "cell_type": "code",
   "execution_count": 13,
   "metadata": {},
   "outputs": [],
   "source": [
    "# Lendo API KEY da OpenAI\n",
    "\n",
    "import os\n",
    "from dotenv import load_dotenv\n",
    "\n",
    "load_dotenv()\n",
    "\n",
    "OPENAI_API_KEY = os.getenv(\"OPENAI_API_KEY\")\n",
    "\n",
    "llm_model = \"gpt-4o-mini\""
   ]
  },
  {
   "cell_type": "markdown",
   "metadata": {},
   "source": [
    "---"
   ]
  },
  {
   "cell_type": "markdown",
   "metadata": {},
   "source": [
    "### Criando aplicação de perguntas e resposta"
   ]
  },
  {
   "cell_type": "code",
   "execution_count": 3,
   "metadata": {},
   "outputs": [],
   "source": [
    "from langchain.chains import RetrievalQA\n",
    "from langchain_openai import ChatOpenAI\n",
    "from langchain_community.document_loaders import CSVLoader\n",
    "from langchain.indexes import VectorstoreIndexCreator\n",
    "from langchain.vectorstores import DocArrayInMemorySearch"
   ]
  },
  {
   "cell_type": "code",
   "execution_count": 9,
   "metadata": {},
   "outputs": [
    {
     "data": {
      "text/plain": [
       "[Document(metadata={'source': 'bbc_news_articles.csv', 'row': 0}, page_content='title: Ukraine: Angry Zelensky vows to punish Russian atrocities\\npubDate: Mon, 07 Mar 2022 08:01:56 GMT\\nguid: https://www.bbc.co.uk/news/world-europe-60638042\\nlink: https://www.bbc.co.uk/news/world-europe-60638042?at_medium=RSS&at_campaign=KARANGA\\ndescription: The Ukrainian president says the country will not forgive or forget those who murder its civilians.'),\n",
       " Document(metadata={'source': 'bbc_news_articles.csv', 'row': 1}, page_content='title: War in Ukraine: Taking cover in a town under attack\\npubDate: Sun, 06 Mar 2022 22:49:58 GMT\\nguid: https://www.bbc.co.uk/news/world-europe-60641873\\nlink: https://www.bbc.co.uk/news/world-europe-60641873?at_medium=RSS&at_campaign=KARANGA\\ndescription: Jeremy Bowen was on the frontline in Irpin, as residents came under Russian fire while trying to flee.'),\n",
       " Document(metadata={'source': 'bbc_news_articles.csv', 'row': 2}, page_content=\"title: Ukraine war 'catastrophic for global food'\\npubDate: Mon, 07 Mar 2022 00:14:42 GMT\\nguid: https://www.bbc.co.uk/news/business-60623941\\nlink: https://www.bbc.co.uk/news/business-60623941?at_medium=RSS&at_campaign=KARANGA\\ndescription: One of the world's biggest fertiliser firms says the conflict could deliver a shock to food supplies.\"),\n",
       " Document(metadata={'source': 'bbc_news_articles.csv', 'row': 3}, page_content=\"title: Manchester Arena bombing: Saffie Roussos's parents on hearing the truth\\npubDate: Mon, 07 Mar 2022 00:05:40 GMT\\nguid: https://www.bbc.co.uk/news/uk-60579079\\nlink: https://www.bbc.co.uk/news/uk-60579079?at_medium=RSS&at_campaign=KARANGA\\ndescription: The parents of the Manchester Arena bombing's youngest victim speak about their life since she died.\"),\n",
       " Document(metadata={'source': 'bbc_news_articles.csv', 'row': 4}, page_content='title: Ukraine conflict: Oil price soars to highest level since 2008\\npubDate: Mon, 07 Mar 2022 08:15:53 GMT\\nguid: https://www.bbc.co.uk/news/business-60642786\\nlink: https://www.bbc.co.uk/news/business-60642786?at_medium=RSS&at_campaign=KARANGA\\ndescription: Consumers are feeling the impact of higher energy costs as fuel prices and household bills jump.')]"
      ]
     },
     "execution_count": 9,
     "metadata": {},
     "output_type": "execute_result"
    }
   ],
   "source": [
    "# Base de dados contendo vários artigos da BBC (retirada do kaggle)\n",
    "arquivo = \"bbc_news_articles.csv\"\n",
    "loader = CSVLoader(file_path=arquivo)\n",
    "data = loader.load()\n",
    "# Visualizando alguns arquivos dos que foram carregados\n",
    "data[:5]"
   ]
  },
  {
   "cell_type": "code",
   "execution_count": 11,
   "metadata": {},
   "outputs": [],
   "source": [
    "from langchain_openai import OpenAIEmbeddings\n",
    "\n",
    "\n",
    "embeddings = OpenAIEmbeddings()"
   ]
  },
  {
   "cell_type": "code",
   "execution_count": 12,
   "metadata": {},
   "outputs": [
    {
     "name": "stderr",
     "output_type": "stream",
     "text": [
      "c:\\Users\\diasd\\anaconda3\\envs\\ChatBot\\Lib\\site-packages\\pydantic\\_migration.py:283: UserWarning: `pydantic.error_wrappers:ValidationError` has been moved to `pydantic:ValidationError`.\n",
      "  warnings.warn(f'`{import_path}` has been moved to `{new_location}`.')\n"
     ]
    }
   ],
   "source": [
    "index = VectorstoreIndexCreator(\n",
    "    vectorstore_cls=DocArrayInMemorySearch,\n",
    "    embedding=embeddings\n",
    ").from_loaders([loader])"
   ]
  },
  {
   "cell_type": "code",
   "execution_count": 16,
   "metadata": {},
   "outputs": [],
   "source": [
    "llm = ChatOpenAI(temperature= 0.0, model=llm_model)\n",
    "qa = RetrievalQA.from_chain_type(\n",
    "    llm=llm,\n",
    "    chain_type=\"stuff\",\n",
    "    retriever=index.vectorstore.as_retriever(),\n",
    "    verbose=True,\n",
    "    chain_type_kwargs = {\n",
    "        \"document_separator\":\"<<<<<>>>>>\"\n",
    "    }\n",
    ")"
   ]
  },
  {
   "cell_type": "code",
   "execution_count": 18,
   "metadata": {},
   "outputs": [],
   "source": [
    "query = \"Você tem algum arquivo sobre a guerra na ucrânia?\""
   ]
  },
  {
   "cell_type": "code",
   "execution_count": 21,
   "metadata": {},
   "outputs": [
    {
     "data": {
      "text/plain": [
       "\"Sim, tenho algumas informações sobre a guerra na Ucrânia. Aqui estão alguns artigos relevantes:\\n\\n1. **War in Ukraine: 'I saw a Russian soldier shoot my father dead in Bucha'** - Este artigo relata o testemunho de um adolescente que descreve atrocidades supostamente cometidas por soldados russos em Bucha. [Leia mais aqui](https://www.bbc.co.uk/news/world-europe-60989121).\\n\\n2. **Ukraine in maps: Tracking the war with Russia** - Este artigo fornece uma análise sobre o progresso da contra-ofensiva da Ucrânia e a situação nas linhas de frente. [Leia mais aqui](https://www.bbc.co.uk/news/world-europe-60506682).\\n\\n3. **War in Ukraine: We are holding on, say Mykolaiv residents** - Este artigo fala sobre a resistência e os sentimentos dos moradores de Mykolaiv enquanto a guerra continua. [Leia mais aqui](https://www.bbc.co.uk/news/world-europe-61687586).\\n\\nSe precisar de mais informações ou detalhes específicos, por favor, me avise!\""
      ]
     },
     "execution_count": 21,
     "metadata": {},
     "output_type": "execute_result"
    }
   ],
   "source": [
    "llm_replacement_model = ChatOpenAI(temperature=0, model=\"gpt-4o-mini\")\n",
    "response = index.query(query, llm=llm_replacement_model)\n",
    "response"
   ]
  },
  {
   "cell_type": "code",
   "execution_count": 32,
   "metadata": {},
   "outputs": [],
   "source": [
    "query = \"Você tem algum artigo sobre a COVID-19?\""
   ]
  },
  {
   "cell_type": "code",
   "execution_count": 33,
   "metadata": {},
   "outputs": [
    {
     "data": {
      "text/plain": [
       "'Sim, aqui estão alguns artigos sobre a COVID-19:\\n\\n1. **Have I got Covid, a bad cold or something else?** - Este artigo discute os novos sintomas da COVID-19 e quando você deve ficar em casa. [Leia mais aqui](https://www.bbc.co.uk/news/health-54145299).\\n\\n2. **Is the world ready for a great Covid re-opening?** - Este artigo oferece uma visão sobre a vida dois anos após o início da pandemia. [Leia mais aqui](https://www.bbc.co.uk/news/world-us-canada-60758401).\\n\\n3. **North Korea: The mystery of its Covid outbreak** - Este artigo explora a situação da COVID-19 na Coreia do Norte e o que se sabe sobre a crise. [Leia mais aqui](https://www.bbc.co.uk/news/61651016).\\n\\n4. **Why Covid is still flooring some people** - Este artigo aborda por que algumas pessoas ainda estão enfrentando sintomas graves da COVID-19. [Leia mais aqui](https://www.bbc.co.uk/news/health-67726685).\\n\\nSe precisar de mais informações, é só avisar!'"
      ]
     },
     "execution_count": 33,
     "metadata": {},
     "output_type": "execute_result"
    }
   ],
   "source": [
    "llm_replacement_model = ChatOpenAI(temperature=0, model=\"gpt-4o-mini\")\n",
    "response = index.query(query, llm=llm_replacement_model)\n",
    "response"
   ]
  },
  {
   "cell_type": "markdown",
   "metadata": {},
   "source": [
    "Ou seja, até agora o bot está sendo alimentado pela minha base de dados."
   ]
  },
  {
   "cell_type": "markdown",
   "metadata": {},
   "source": [
    "### Evaluation"
   ]
  },
  {
   "cell_type": "markdown",
   "metadata": {},
   "source": [
    "A ferramenta ``QAGenerateChain`` é usada para gerar perguntas com base em documentos passados para ela, no intuito de testar a capacidade do bot de responder."
   ]
  },
  {
   "cell_type": "markdown",
   "metadata": {},
   "source": [
    "- Geração de Perguntas: Dado um texto ou um conjunto de documentos, a QAGenerateChain pode automaticamente gerar perguntas relevantes baseadas no conteúdo do texto.\n",
    "\n",
    "- Geração de Respostas: Além de gerar perguntas, essa ferramenta também pode gerar as respostas correspondentes, criando pares de pergunta-resposta.\n",
    "\n",
    "- Avaliação de Modelos: Pode ser usada como parte de um pipeline de avaliação, onde você gera pares de perguntas e respostas para avaliar a performance de um modelo de QA ao responder a essas perguntas."
   ]
  },
  {
   "cell_type": "code",
   "execution_count": 45,
   "metadata": {},
   "outputs": [],
   "source": [
    "from langchain.evaluation.qa import QAGenerateChain"
   ]
  },
  {
   "cell_type": "code",
   "execution_count": 46,
   "metadata": {},
   "outputs": [],
   "source": [
    "# Criando um exemplo de QAGeneretaChain\n",
    "example_gen_chain = QAGenerateChain.from_llm(ChatOpenAI(model=llm_model))"
   ]
  },
  {
   "cell_type": "code",
   "execution_count": 47,
   "metadata": {},
   "outputs": [
    {
     "data": {
      "text/plain": [
       "QAGenerateChain(prompt=PromptTemplate(input_variables=['doc'], template='You are a teacher coming up with questions to ask on a quiz. \\nGiven the following document, please generate a question and answer based on that document.\\n\\nExample Format:\\n<Begin Document>\\n...\\n<End Document>\\nQUESTION: question here\\nANSWER: answer here\\n\\nThese questions should be detailed and be based explicitly on information in the document. Begin!\\n\\n<Begin Document>\\n{doc}\\n<End Document>'), llm=ChatOpenAI(client=<openai.resources.chat.completions.Completions object at 0x0000027449C76A50>, async_client=<openai.resources.chat.completions.AsyncCompletions object at 0x0000027449C52210>, root_client=<openai.OpenAI object at 0x0000027449CF62A0>, root_async_client=<openai.AsyncOpenAI object at 0x0000027449C754C0>, model_name='gpt-4o-mini', openai_api_key=SecretStr('**********'), openai_proxy=''))"
      ]
     },
     "execution_count": 47,
     "metadata": {},
     "output_type": "execute_result"
    }
   ],
   "source": [
    "example_gen_chain"
   ]
  },
  {
   "cell_type": "markdown",
   "metadata": {},
   "source": [
    "Gerando exemplos de perguntas e respostas com base em algumas observações do meu conjunto de dados"
   ]
  },
  {
   "cell_type": "code",
   "execution_count": 48,
   "metadata": {},
   "outputs": [
    {
     "name": "stderr",
     "output_type": "stream",
     "text": [
      "c:\\Users\\diasd\\anaconda3\\envs\\ChatBot\\Lib\\site-packages\\langchain\\chains\\llm.py:367: UserWarning: The apply_and_parse method is deprecated, instead pass an output parser directly to LLMChain.\n",
      "  warnings.warn(\n"
     ]
    }
   ],
   "source": [
    "new_examples = example_gen_chain.apply_and_parse(\n",
    "    [{\"doc\":t} for t in data[:5]]\n",
    ")"
   ]
  },
  {
   "cell_type": "code",
   "execution_count": 53,
   "metadata": {},
   "outputs": [
    {
     "data": {
      "text/plain": [
       "{'qa_pairs': {'query': 'What is the main focus of the article titled \"Ukraine conflict: Oil price soars to highest level since 2008,\" published on March 7, 2022?',\n",
       "  'answer': 'The main focus of the article is the significant increase in oil prices, reaching the highest levels since 2008, and the resulting impact on consumers, particularly through rising fuel prices and higher household bills.'}}"
      ]
     },
     "execution_count": 53,
     "metadata": {},
     "output_type": "execute_result"
    }
   ],
   "source": [
    "new_examples[4]"
   ]
  },
  {
   "cell_type": "code",
   "execution_count": 54,
   "metadata": {},
   "outputs": [
    {
     "data": {
      "text/plain": [
       "Document(metadata={'source': 'bbc_news_articles.csv', 'row': 5}, page_content='title: Ukraine war: PM to hold talks with world leaders on further sanctions\\npubDate: Mon, 07 Mar 2022 08:33:29 GMT\\nguid: https://www.bbc.co.uk/news/uk-60642926\\nlink: https://www.bbc.co.uk/news/uk-60642926?at_medium=RSS&at_campaign=KARANGA\\ndescription: Boris Johnson is to meet the Canadian and Dutch PMs, as MPs debate new laws targeting oligarchs.')"
      ]
     },
     "execution_count": 54,
     "metadata": {},
     "output_type": "execute_result"
    }
   ],
   "source": [
    "data[5]"
   ]
  },
  {
   "cell_type": "code",
   "execution_count": null,
   "metadata": {},
   "outputs": [],
   "source": []
  }
 ],
 "metadata": {
  "kernelspec": {
   "display_name": "ChatBot",
   "language": "python",
   "name": "python3"
  },
  "language_info": {
   "codemirror_mode": {
    "name": "ipython",
    "version": 3
   },
   "file_extension": ".py",
   "mimetype": "text/x-python",
   "name": "python",
   "nbconvert_exporter": "python",
   "pygments_lexer": "ipython3",
   "version": "3.12.4"
  }
 },
 "nbformat": 4,
 "nbformat_minor": 2
}
