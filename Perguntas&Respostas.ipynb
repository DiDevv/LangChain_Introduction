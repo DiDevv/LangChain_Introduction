{
 "cells": [
  {
   "cell_type": "markdown",
   "metadata": {},
   "source": [
    "# LangChain: Perguntas e Respostas através de um documento"
   ]
  },
  {
   "cell_type": "markdown",
   "metadata": {},
   "source": [
    "Utilizando tecnologia de Embeddings "
   ]
  },
  {
   "cell_type": "code",
   "execution_count": 3,
   "metadata": {},
   "outputs": [],
   "source": [
    "# Importando Bibliotecas\n",
    "from dotenv import load_dotenv\n",
    "import os"
   ]
  },
  {
   "cell_type": "code",
   "execution_count": 37,
   "metadata": {},
   "outputs": [],
   "source": [
    "from langchain.chains import RetrievalQA\n",
    "from langchain_openai import ChatOpenAI\n",
    "from langchain.document_loaders import CSVLoader # Para usar, baixe pip install -U langchain-community (Instalei no terminal)\n",
    "from langchain.vectorstores import DocArrayInMemorySearch"
   ]
  },
  {
   "cell_type": "code",
   "execution_count": 38,
   "metadata": {},
   "outputs": [],
   "source": [
    "#Carregando API KEY da OpenAI diretamente da minha variável de ambiente .env\n",
    "\n",
    "load_dotenv()\n",
    "\n",
    "OPENAI_API_KEY = os.getenv(\"OPENAI_API_KEY\")"
   ]
  },
  {
   "cell_type": "markdown",
   "metadata": {},
   "source": [
    "---"
   ]
  },
  {
   "cell_type": "markdown",
   "metadata": {},
   "source": [
    "### Carregando arquivo"
   ]
  },
  {
   "cell_type": "code",
   "execution_count": 84,
   "metadata": {},
   "outputs": [],
   "source": [
    "arquivo = \"Combined Data.csv\"\n",
    "loader =  CSVLoader(file_path=arquivo)"
   ]
  },
  {
   "cell_type": "code",
   "execution_count": 85,
   "metadata": {},
   "outputs": [
    {
     "data": {
      "text/plain": [
       "Document(metadata={'source': 'Combined Data.csv', 'row': 0}, page_content=': 0\\nstatement: oh my gosh\\nstatus: Anxiety')"
      ]
     },
     "execution_count": 85,
     "metadata": {},
     "output_type": "execute_result"
    }
   ],
   "source": [
    "docs = loader.load()\n",
    "docs[0]"
   ]
  },
  {
   "cell_type": "markdown",
   "metadata": {},
   "source": [
    "### Criando index"
   ]
  },
  {
   "cell_type": "markdown",
   "metadata": {},
   "source": [
    "pip install docarray"
   ]
  },
  {
   "cell_type": "code",
   "execution_count": 76,
   "metadata": {},
   "outputs": [
    {
     "name": "stdout",
     "output_type": "stream",
     "text": [
      "Requirement already satisfied: docarray in c:\\users\\diasd\\anaconda3\\envs\\chatbot\\lib\\site-packages (0.40.0)\n",
      "Requirement already satisfied: numpy>=1.17.3 in c:\\users\\diasd\\anaconda3\\envs\\chatbot\\lib\\site-packages (from docarray) (1.26.4)\n",
      "Requirement already satisfied: orjson>=3.8.2 in c:\\users\\diasd\\anaconda3\\envs\\chatbot\\lib\\site-packages (from docarray) (3.10.7)\n",
      "Requirement already satisfied: pydantic>=1.10.8 in c:\\users\\diasd\\anaconda3\\envs\\chatbot\\lib\\site-packages (from docarray) (2.8.2)\n",
      "Requirement already satisfied: rich>=13.1.0 in c:\\users\\diasd\\anaconda3\\envs\\chatbot\\lib\\site-packages (from docarray) (13.8.0)\n",
      "Requirement already satisfied: types-requests>=2.28.11.6 in c:\\users\\diasd\\anaconda3\\envs\\chatbot\\lib\\site-packages (from docarray) (2.32.0.20240712)\n",
      "Requirement already satisfied: typing-inspect>=0.8.0 in c:\\users\\diasd\\anaconda3\\envs\\chatbot\\lib\\site-packages (from docarray) (0.9.0)\n",
      "Requirement already satisfied: annotated-types>=0.4.0 in c:\\users\\diasd\\anaconda3\\envs\\chatbot\\lib\\site-packages (from pydantic>=1.10.8->docarray) (0.7.0)\n",
      "Requirement already satisfied: pydantic-core==2.20.1 in c:\\users\\diasd\\anaconda3\\envs\\chatbot\\lib\\site-packages (from pydantic>=1.10.8->docarray) (2.20.1)\n",
      "Requirement already satisfied: typing-extensions>=4.6.1 in c:\\users\\diasd\\anaconda3\\envs\\chatbot\\lib\\site-packages (from pydantic>=1.10.8->docarray) (4.12.2)\n",
      "Requirement already satisfied: markdown-it-py>=2.2.0 in c:\\users\\diasd\\anaconda3\\envs\\chatbot\\lib\\site-packages (from rich>=13.1.0->docarray) (2.2.0)\n",
      "Requirement already satisfied: pygments<3.0.0,>=2.13.0 in c:\\users\\diasd\\anaconda3\\envs\\chatbot\\lib\\site-packages (from rich>=13.1.0->docarray) (2.18.0)\n",
      "Requirement already satisfied: urllib3>=2 in c:\\users\\diasd\\anaconda3\\envs\\chatbot\\lib\\site-packages (from types-requests>=2.28.11.6->docarray) (2.2.2)\n",
      "Requirement already satisfied: mypy-extensions>=0.3.0 in c:\\users\\diasd\\anaconda3\\envs\\chatbot\\lib\\site-packages (from typing-inspect>=0.8.0->docarray) (1.0.0)\n",
      "Requirement already satisfied: mdurl~=0.1 in c:\\users\\diasd\\anaconda3\\envs\\chatbot\\lib\\site-packages (from markdown-it-py>=2.2.0->rich>=13.1.0->docarray) (0.1.0)\n"
     ]
    }
   ],
   "source": [
    "!pip install docarray\n"
   ]
  },
  {
   "cell_type": "code",
   "execution_count": 86,
   "metadata": {},
   "outputs": [],
   "source": [
    "from langchain.indexes import VectorstoreIndexCreator\n",
    "from langchain_openai import OpenAIEmbeddings\n",
    "\n",
    "\n",
    "embeddings = OpenAIEmbeddings()"
   ]
  },
  {
   "cell_type": "code",
   "execution_count": 87,
   "metadata": {},
   "outputs": [
    {
     "data": {
      "text/plain": [
       "1536"
      ]
     },
     "execution_count": 87,
     "metadata": {},
     "output_type": "execute_result"
    }
   ],
   "source": [
    "# Testando os Embeddings\n",
    "embed = embeddings.embed_query(\"Olá, meu nome é Diogo\")\n",
    "len(embed)"
   ]
  },
  {
   "cell_type": "code",
   "execution_count": 88,
   "metadata": {},
   "outputs": [
    {
     "data": {
      "text/plain": [
       "[-0.021008368581533432,\n",
       " 0.009466733783483505,\n",
       " -0.012140638194978237,\n",
       " -0.028035858646035194,\n",
       " -0.01484541967511177]"
      ]
     },
     "execution_count": 88,
     "metadata": {},
     "output_type": "execute_result"
    }
   ],
   "source": [
    "embed[:5]"
   ]
  },
  {
   "cell_type": "code",
   "execution_count": 89,
   "metadata": {},
   "outputs": [],
   "source": [
    "index = VectorstoreIndexCreator(\n",
    "    vectorstore_cls=DocArrayInMemorySearch,\n",
    "    embedding= embeddings\n",
    ").from_loaders([loader])"
   ]
  },
  {
   "cell_type": "code",
   "execution_count": 96,
   "metadata": {},
   "outputs": [],
   "source": [
    "query = \"Qual o sentimento predominante da galera nessa base de dados?\""
   ]
  },
  {
   "cell_type": "code",
   "execution_count": 97,
   "metadata": {},
   "outputs": [],
   "source": [
    "llm_replacement_model = ChatOpenAI(temperature=0, model=\"gpt-4o-mini\")\n",
    "response = index.query(query, llm=llm_replacement_model)"
   ]
  },
  {
   "cell_type": "code",
   "execution_count": 98,
   "metadata": {},
   "outputs": [
    {
     "data": {
      "text/plain": [
       "'O sentimento predominante parece ser de tristeza e angústia, com expressões de vazio existencial e dificuldades emocionais. Há também momentos de empatia e entusiasmo em relação a temas específicos, como a capa de um anime, mas a maior parte das mensagens reflete uma luta interna e uma busca por significado.'"
      ]
     },
     "execution_count": 98,
     "metadata": {},
     "output_type": "execute_result"
    }
   ],
   "source": [
    "response"
   ]
  },
  {
   "cell_type": "code",
   "execution_count": null,
   "metadata": {},
   "outputs": [],
   "source": []
  }
 ],
 "metadata": {
  "kernelspec": {
   "display_name": "ChatBot",
   "language": "python",
   "name": "python3"
  },
  "language_info": {
   "codemirror_mode": {
    "name": "ipython",
    "version": 3
   },
   "file_extension": ".py",
   "mimetype": "text/x-python",
   "name": "python",
   "nbconvert_exporter": "python",
   "pygments_lexer": "ipython3",
   "version": "3.12.4"
  }
 },
 "nbformat": 4,
 "nbformat_minor": 2
}
