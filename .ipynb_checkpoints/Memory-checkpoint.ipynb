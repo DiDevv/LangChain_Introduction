{
 "cells": [
  {
   "cell_type": "markdown",
   "metadata": {},
   "source": [
    "# LangChain: Memory"
   ]
  },
  {
   "cell_type": "markdown",
   "metadata": {},
   "source": [
    "Trabalhando com o processo de memorização dos modelos de LLM para construção de chatbots que armazenam informações sobre o usuário ao qual está conversando."
   ]
  },
  {
   "cell_type": "code",
   "execution_count": 3,
   "metadata": {},
   "outputs": [],
   "source": [
    "# Importando Bibliotecas\n",
    "from dotenv import load_dotenv\n",
    "import os\n",
    "from langchain_openai import ChatOpenAI \n",
    "from langchain.chains import ConversationChain\n",
    "from langchain.memory import ConversationBufferMemory"
   ]
  },
  {
   "cell_type": "code",
   "execution_count": 14,
   "metadata": {},
   "outputs": [],
   "source": [
    "#Carregando API KEY da OpenAI diretamente da minha variável de ambiente .env\n",
    "\n",
    "load_dotenv()\n",
    "\n",
    "OPENAI_API_KEY = os.getenv(\"OPENAI_API_KEY\")\n",
    "\n",
    "#Selecionando Modelo de LLM da OpenAI\n",
    "llm_model = \"gpt-4o-mini\"\n",
    "model = ChatOpenAI(model=llm_model, temperature=0.0)\n",
    "\n",
    "memory = ConversationBufferMemory()\n",
    "conversation = ConversationChain(\n",
    "    llm = model,\n",
    "    memory = memory,\n",
    "    #A verbosidade mostra alguns prompts que o modelo está recebendo\n",
    "    verbose = True\n",
    ")"
   ]
  },
  {
   "cell_type": "code",
   "execution_count": 15,
   "metadata": {},
   "outputs": [
    {
     "name": "stdout",
     "output_type": "stream",
     "text": [
      "\n",
      "\n",
      "\u001b[1m> Entering new ConversationChain chain...\u001b[0m\n",
      "Prompt after formatting:\n",
      "\u001b[32;1m\u001b[1;3mThe following is a friendly conversation between a human and an AI. The AI is talkative and provides lots of specific details from its context. If the AI does not know the answer to a question, it truthfully says it does not know.\n",
      "\n",
      "Current conversation:\n",
      "\n",
      "Human: Olá, meu nome é Diogo\n",
      "AI:\u001b[0m\n",
      "\n",
      "\u001b[1m> Finished chain.\u001b[0m\n"
     ]
    },
    {
     "data": {
      "text/plain": [
       "'Olá, Diogo! É um prazer te conhecer! Como você está hoje? Tem algo específico em mente que gostaria de conversar ou perguntar?'"
      ]
     },
     "execution_count": 15,
     "metadata": {},
     "output_type": "execute_result"
    }
   ],
   "source": [
    "conversation.predict(input=\"Olá, meu nome é Diogo\")\n"
   ]
  },
  {
   "cell_type": "code",
   "execution_count": 16,
   "metadata": {},
   "outputs": [
    {
     "name": "stdout",
     "output_type": "stream",
     "text": [
      "\n",
      "\n",
      "\u001b[1m> Entering new ConversationChain chain...\u001b[0m\n",
      "Prompt after formatting:\n",
      "\u001b[32;1m\u001b[1;3mThe following is a friendly conversation between a human and an AI. The AI is talkative and provides lots of specific details from its context. If the AI does not know the answer to a question, it truthfully says it does not know.\n",
      "\n",
      "Current conversation:\n",
      "Human: Olá, meu nome é Diogo\n",
      "AI: Olá, Diogo! É um prazer te conhecer! Como você está hoje? Tem algo específico em mente que gostaria de conversar ou perguntar?\n",
      "Human: Qual meu nome?\n",
      "AI:\u001b[0m\n",
      "\n",
      "\u001b[1m> Finished chain.\u001b[0m\n"
     ]
    },
    {
     "data": {
      "text/plain": [
       "'Seu nome é Diogo! Como posso ajudar você hoje, Diogo?'"
      ]
     },
     "execution_count": 16,
     "metadata": {},
     "output_type": "execute_result"
    }
   ],
   "source": [
    "conversation.predict(input=\"Qual meu nome?\")"
   ]
  },
  {
   "cell_type": "code",
   "execution_count": 17,
   "metadata": {},
   "outputs": [
    {
     "name": "stdout",
     "output_type": "stream",
     "text": [
      "\n",
      "\n",
      "\u001b[1m> Entering new ConversationChain chain...\u001b[0m\n",
      "Prompt after formatting:\n",
      "\u001b[32;1m\u001b[1;3mThe following is a friendly conversation between a human and an AI. The AI is talkative and provides lots of specific details from its context. If the AI does not know the answer to a question, it truthfully says it does not know.\n",
      "\n",
      "Current conversation:\n",
      "Human: Olá, meu nome é Diogo\n",
      "AI: Olá, Diogo! É um prazer te conhecer! Como você está hoje? Tem algo específico em mente que gostaria de conversar ou perguntar?\n",
      "Human: Qual meu nome?\n",
      "AI: Seu nome é Diogo! Como posso ajudar você hoje, Diogo?\n",
      "Human: Eu tenho dois gatinhos, um macho e uma fêmea. O macho se chama Rengar, em homenagem\n",
      "                     a um personagem de league of legends, a fêmea se chama KillJoy, em homenagem a personagem\n",
      "                     de Valorant!\n",
      "AI:\u001b[0m\n",
      "\n",
      "\u001b[1m> Finished chain.\u001b[0m\n"
     ]
    },
    {
     "data": {
      "text/plain": [
       "'Que nomes incríveis para os seus gatinhos, Diogo! Rengar é um personagem bem interessante de League of Legends, conhecido por sua habilidade de caçar e ser furtivo. E KillJoy, de Valorant, é uma personagem muito inteligente e estratégica, com suas armadilhas e gadgets. Como eles estão se dando? Eles têm personalidades diferentes?'"
      ]
     },
     "execution_count": 17,
     "metadata": {},
     "output_type": "execute_result"
    }
   ],
   "source": [
    "conversation.predict(input=\"\"\"Eu tenho dois gatinhos, um macho e uma fêmea. O macho se chama Rengar, em homenagem\n",
    "                     a um personagem de league of legends, a fêmea se chama KillJoy, em homenagem a personagem\n",
    "                     de Valorant!\"\"\")"
   ]
  },
  {
   "cell_type": "code",
   "execution_count": 18,
   "metadata": {},
   "outputs": [
    {
     "name": "stdout",
     "output_type": "stream",
     "text": [
      "\n",
      "\n",
      "\u001b[1m> Entering new ConversationChain chain...\u001b[0m\n",
      "Prompt after formatting:\n",
      "\u001b[32;1m\u001b[1;3mThe following is a friendly conversation between a human and an AI. The AI is talkative and provides lots of specific details from its context. If the AI does not know the answer to a question, it truthfully says it does not know.\n",
      "\n",
      "Current conversation:\n",
      "Human: Olá, meu nome é Diogo\n",
      "AI: Olá, Diogo! É um prazer te conhecer! Como você está hoje? Tem algo específico em mente que gostaria de conversar ou perguntar?\n",
      "Human: Qual meu nome?\n",
      "AI: Seu nome é Diogo! Como posso ajudar você hoje, Diogo?\n",
      "Human: Eu tenho dois gatinhos, um macho e uma fêmea. O macho se chama Rengar, em homenagem\n",
      "                     a um personagem de league of legends, a fêmea se chama KillJoy, em homenagem a personagem\n",
      "                     de Valorant!\n",
      "AI: Que nomes incríveis para os seus gatinhos, Diogo! Rengar é um personagem bem interessante de League of Legends, conhecido por sua habilidade de caçar e ser furtivo. E KillJoy, de Valorant, é uma personagem muito inteligente e estratégica, com suas armadilhas e gadgets. Como eles estão se dando? Eles têm personalidades diferentes?\n",
      "Human: Qual nome do meu gato macho e por que?\n",
      "AI:\u001b[0m\n",
      "\n",
      "\u001b[1m> Finished chain.\u001b[0m\n"
     ]
    },
    {
     "data": {
      "text/plain": [
       "'O nome do seu gato macho é Rengar, em homenagem ao personagem de League of Legends. Rengar é conhecido por ser um caçador astuto e feroz, o que é uma escolha divertida e significativa para um gato! Como ele é em termos de personalidade? Ele é mais brincalhão ou tranquilo?'"
      ]
     },
     "execution_count": 18,
     "metadata": {},
     "output_type": "execute_result"
    }
   ],
   "source": [
    "conversation.predict(input=\"\"\"Qual nome do meu gato macho e por que?\"\"\")"
   ]
  },
  {
   "cell_type": "markdown",
   "metadata": {},
   "source": [
    "---"
   ]
  },
  {
   "cell_type": "code",
   "execution_count": 20,
   "metadata": {},
   "outputs": [
    {
     "data": {
      "text/plain": [
       "'Human: Olá, meu nome é Diogo\\nAI: Olá, Diogo! É um prazer te conhecer! Como você está hoje? Tem algo específico em mente que gostaria de conversar ou perguntar?\\nHuman: Qual meu nome?\\nAI: Seu nome é Diogo! Como posso ajudar você hoje, Diogo?\\nHuman: Eu tenho dois gatinhos, um macho e uma fêmea. O macho se chama Rengar, em homenagem\\n                     a um personagem de league of legends, a fêmea se chama KillJoy, em homenagem a personagem\\n                     de Valorant!\\nAI: Que nomes incríveis para os seus gatinhos, Diogo! Rengar é um personagem bem interessante de League of Legends, conhecido por sua habilidade de caçar e ser furtivo. E KillJoy, de Valorant, é uma personagem muito inteligente e estratégica, com suas armadilhas e gadgets. Como eles estão se dando? Eles têm personalidades diferentes?\\nHuman: Qual nome do meu gato macho e por que?\\nAI: O nome do seu gato macho é Rengar, em homenagem ao personagem de League of Legends. Rengar é conhecido por ser um caçador astuto e feroz, o que é uma escolha divertida e significativa para um gato! Como ele é em termos de personalidade? Ele é mais brincalhão ou tranquilo?'"
      ]
     },
     "execution_count": 20,
     "metadata": {},
     "output_type": "execute_result"
    }
   ],
   "source": [
    "# Armazena todo o histórico da conversa entre o humano e o chat\n",
    "memory.buffer"
   ]
  },
  {
   "cell_type": "code",
   "execution_count": 21,
   "metadata": {},
   "outputs": [
    {
     "data": {
      "text/plain": [
       "<bound method ConversationBufferMemory.load_memory_variables of ConversationBufferMemory(chat_memory=InMemoryChatMessageHistory(messages=[HumanMessage(content='Olá, meu nome é Diogo'), AIMessage(content='Olá, Diogo! É um prazer te conhecer! Como você está hoje? Tem algo específico em mente que gostaria de conversar ou perguntar?'), HumanMessage(content='Qual meu nome?'), AIMessage(content='Seu nome é Diogo! Como posso ajudar você hoje, Diogo?'), HumanMessage(content='Eu tenho dois gatinhos, um macho e uma fêmea. O macho se chama Rengar, em homenagem\\n                     a um personagem de league of legends, a fêmea se chama KillJoy, em homenagem a personagem\\n                     de Valorant!'), AIMessage(content='Que nomes incríveis para os seus gatinhos, Diogo! Rengar é um personagem bem interessante de League of Legends, conhecido por sua habilidade de caçar e ser furtivo. E KillJoy, de Valorant, é uma personagem muito inteligente e estratégica, com suas armadilhas e gadgets. Como eles estão se dando? Eles têm personalidades diferentes?'), HumanMessage(content='Qual nome do meu gato macho e por que?'), AIMessage(content='O nome do seu gato macho é Rengar, em homenagem ao personagem de League of Legends. Rengar é conhecido por ser um caçador astuto e feroz, o que é uma escolha divertida e significativa para um gato! Como ele é em termos de personalidade? Ele é mais brincalhão ou tranquilo?')]))>"
      ]
     },
     "execution_count": 21,
     "metadata": {},
     "output_type": "execute_result"
    }
   ],
   "source": [
    "memory.load_memory_variables"
   ]
  },
  {
   "cell_type": "code",
   "execution_count": null,
   "metadata": {},
   "outputs": [],
   "source": []
  },
  {
   "cell_type": "code",
   "execution_count": null,
   "metadata": {},
   "outputs": [],
   "source": []
  }
 ],
 "metadata": {
  "kernelspec": {
   "display_name": "ChatBot",
   "language": "python",
   "name": "python3"
  },
  "language_info": {
   "codemirror_mode": {
    "name": "ipython",
    "version": 3
   },
   "file_extension": ".py",
   "mimetype": "text/x-python",
   "name": "python",
   "nbconvert_exporter": "python",
   "pygments_lexer": "ipython3",
   "version": "3.12.4"
  }
 },
 "nbformat": 4,
 "nbformat_minor": 2
}
